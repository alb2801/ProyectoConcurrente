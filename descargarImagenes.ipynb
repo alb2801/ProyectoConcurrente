{
 "cells": [
  {
   "cell_type": "code",
   "execution_count": null,
   "metadata": {},
   "outputs": [],
   "source": [
    "import requests\n",
    "import threading\n",
    "import os\n",
    "import gzip\n",
    "\n",
    "def download_image(query, index):\n",
    "    # Genera un número aleatorio entre 1 y 100\n",
    "    random_number = randint(1, 100)\n",
    "\n",
    "    # Crea la URL de la imagen\n",
    "    url = f\"https://www.google.com/search?q={query}&tbm=isch&hl=es&tbs=isz:l,itp:photo&start={random_number}\"\n",
    "\n",
    "    # Descarga la imagen\n",
    "    response = requests.get(url)\n",
    "\n",
    "    # Obtiene el nombre de la imagen\n",
    "    filename = f\"image_{index}.jpg\"\n",
    "\n",
    "    # Guarda la imagen en el disco\n",
    "    with open(filename, \"wb\") as file:\n",
    "        file.write(response.content)\n",
    "\n",
    "    # Comprime la imagen\n",
    "    with gzip.open(filename + \".gz\", \"wb\") as file:\n",
    "        file.write(response.content)\n",
    "\n",
    "def main():\n",
    "    # Define el tema de las imágenes\n",
    "    query = \"paisajes\"\n",
    "\n",
    "    # Crea los hilos\n",
    "    threads = []\n",
    "    for i in range(10):\n",
    "        thread = threading.Thread(target=download_image, args=(query, i))\n",
    "        threads.append(thread)\n",
    "\n",
    "    # Inicia los hilos\n",
    "    for thread in threads:\n",
    "        thread.start()\n",
    "\n",
    "    # Espera a que terminen los hilos\n",
    "    for thread in threads:\n",
    "        thread.join()\n"
   ]
  }
 ],
 "metadata": {
  "language_info": {
   "name": "python"
  }
 },
 "nbformat": 4,
 "nbformat_minor": 2
}
